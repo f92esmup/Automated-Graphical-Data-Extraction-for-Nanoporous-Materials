{
 "cells": [
  {
   "cell_type": "markdown",
   "metadata": {},
   "source": [
    "# Generación de Datos Sintéticos y Almacenamiento en Google Cloud Storage\n",
    "En este notebook, generaremos datos sintéticos para un modelo de regresión lineal y los guardaremos en Google Cloud Storage (GCS)."
   ]
  },
  {
   "cell_type": "code",
   "execution_count": 1,
   "metadata": {},
   "outputs": [],
   "source": [
    "import numpy as np\n",
    "import pandas as pd\n"
   ]
  },
  {
   "cell_type": "markdown",
   "metadata": {},
   "source": [
    "## Configuración de Google Cloud Storage\n",
    "Primero, configuramos el nombre del bucket donde guardaremos los datos."
   ]
  },
  {
   "cell_type": "code",
   "execution_count": 2,
   "metadata": {},
   "outputs": [],
   "source": [
    "# Configuración de Google Cloud Storage\n",
    "bucket_name = 'your-bucket-name'\n",
    "file_name = 'synthetic_data.csv'"
   ]
  },
  {
   "cell_type": "markdown",
   "metadata": {},
   "source": [
    "## Crear el Bucket en Google Cloud Storage\n",
    "Creamos el bucket en GCS si no existe."
   ]
  },
  {
   "cell_type": "code",
   "execution_count": 3,
   "metadata": {},
   "outputs": [],
   "source": [
    "!gsutil mb gs://{bucket_name}/"
   ]
  },
  {
   "cell_type": "markdown",
   "metadata": {},
   "source": [
    "## Generación de Datos Sintéticos\n",
    "Generamos datos sintéticos para un modelo de regresión lineal simple."
   ]
  },
  {
   "cell_type": "code",
   "execution_count": 4,
   "metadata": {},
   "outputs": [],
   "source": [
    "np.random.seed(0)\n",
    "X = 2 * np.random.rand(100, 1)\n",
    "y = 4 + 3 * X + np.random.randn(100, 1)\n",
    "data = pd.DataFrame(np.hstack((X, y)), columns=['X', 'y'])\n",
    "\n",
    "# Guardar los datos en un archivo CSV\n",
    "data.to_csv(file_name, index=False)"
   ]
  },
  {
   "cell_type": "markdown",
   "metadata": {},
   "source": [
    "## Subir el Archivo a Google Cloud Storage\n",
    "Finalmente, subimos el archivo CSV generado a nuestro bucket en GCS usando `gsutil`."
   ]
  },
  {
   "cell_type": "code",
   "execution_count": 5,
   "metadata": {},
   "outputs": [
    {
     "name": "stdout",
     "output_type": "stream",
     "text": [
      "Copying file://synthetic_data.csv [Content-Type=text/csv]...\n",
      "AccessDeniedException: 403 The billing account for the owning project is disabled in state closed\n"
     ]
    }
   ],
   "source": [
    "!gsutil cp {file_name} gs://{bucket_name}/"
   ]
  }
 ],
 "metadata": {
  "kernelspec": {
   "display_name": "Gcloud",
   "language": "python",
   "name": "python3"
  },
  "language_info": {
   "codemirror_mode": {
    "name": "ipython",
    "version": 3
   },
   "file_extension": ".py",
   "mimetype": "text/x-python",
   "name": "python",
   "nbconvert_exporter": "python",
   "pygments_lexer": "ipython3",
   "version": "3.11.11"
  }
 },
 "nbformat": 4,
 "nbformat_minor": 4
}
